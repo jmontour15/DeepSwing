{
 "cells": [
  {
   "cell_type": "code",
   "execution_count": 3,
   "metadata": {},
   "outputs": [
    {
     "data": {
      "text/plain": [
       "True"
      ]
     },
     "execution_count": 3,
     "metadata": {},
     "output_type": "execute_result"
    }
   ],
   "source": [
    "from preprocess import preprocess_golf_video\n",
    "\n",
    "preprocess_golf_video(input_path = \"data/sample_video.mp4\", output_path = \"outputs/sample_processed.mp4\", dim=160)"
   ]
  },
  {
   "cell_type": "code",
   "execution_count": 2,
   "metadata": {},
   "outputs": [
    {
     "name": "stdout",
     "output_type": "stream",
     "text": [
      "Predicted Golf Swing Events:\n",
      "Address: Frame 13 at 0.43s (Confidence: 0.333)\n",
      "Toe-up: Frame 32 at 1.06s (Confidence: 0.589)\n",
      "Mid-backswing: Frame 41 at 1.36s (Confidence: 0.475)\n",
      "Top: Frame 49 at 1.62s (Confidence: 0.377)\n",
      "Mid-downswing: Frame 56 at 1.85s (Confidence: 0.973)\n",
      "Impact: Frame 59 at 1.95s (Confidence: 0.954)\n",
      "Mid-follow-through: Frame 62 at 2.05s (Confidence: 0.928)\n",
      "Finish: Frame 72 at 2.38s (Confidence: 0.280)\n"
     ]
    }
   ],
   "source": [
    "from swingnet import predict_golf_swing_events\n",
    "\n",
    "events = predict_golf_swing_events('outputs/sample_processed.mp4')\n",
    "\n",
    "print(\"Predicted Golf Swing Events:\")\n",
    "for event, details in events.items():\n",
    "    print(f\"{event}: Frame {details['frame']} at {details['time']:.2f}s (Confidence: {details['confidence']:.3f})\")"
   ]
  }
 ],
 "metadata": {
  "kernelspec": {
   "display_name": "deepswing",
   "language": "python",
   "name": "python3"
  },
  "language_info": {
   "codemirror_mode": {
    "name": "ipython",
    "version": 3
   },
   "file_extension": ".py",
   "mimetype": "text/x-python",
   "name": "python",
   "nbconvert_exporter": "python",
   "pygments_lexer": "ipython3",
   "version": "3.10.16"
  }
 },
 "nbformat": 4,
 "nbformat_minor": 2
}
