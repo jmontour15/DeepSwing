{
 "cells": [
  {
   "cell_type": "code",
   "execution_count": 4,
   "metadata": {},
   "outputs": [
    {
     "data": {
      "text/plain": [
       "ProgressResponse(status='success', completed=None, total=None, digest=None)"
      ]
     },
     "execution_count": 4,
     "metadata": {},
     "output_type": "execute_result"
    }
   ],
   "source": [
    "ollama.create(\n",
    "    model='golf_coach', \n",
    "    from_='llama3',  # Make sure 'llama3' is installed (it is in your list)\n",
    "    system=\"You are a world-class golf coach. You provide expert advice on golf techniques, strategies, and training.\"\n",
    ")"
   ]
  },
  {
   "cell_type": "code",
   "execution_count": null,
   "metadata": {},
   "outputs": [],
   "source": [
    "# Chat with the custom model\n",
    "response = ollama.chat(\n",
    "    model='golf_coach', \n",
    "    messages=[{'role': 'user', 'content': 'I am having trouble with my hands coming too inside in my backswing. Do you have any drills to remedy this?'}]\n",
    ")\n",
    "\n",
    "print(response['message']['content'])"
   ]
  },
  {
   "cell_type": "code",
   "execution_count": 10,
   "metadata": {},
   "outputs": [
    {
     "data": {
      "text/plain": [
       "ProgressResponse(status='success', completed=None, total=None, digest=None)"
      ]
     },
     "execution_count": 10,
     "metadata": {},
     "output_type": "execute_result"
    }
   ],
   "source": [
    "ollama.create(\n",
    "    model='golf_coach-r1:7b', \n",
    "    from_='deepseek-r1:7b',  # Make sure 'llama3' is installed (it is in your list)\n",
    "    system=\"You are a world-class golf coach. You provide expert advice on golf techniques, strategies, and training.\"\n",
    ")"
   ]
  },
  {
   "cell_type": "code",
   "execution_count": null,
   "metadata": {},
   "outputs": [],
   "source": [
    "# Chat with the custom model\n",
    "response = ollama.chat(\n",
    "    model='golf_coach-r1:7b', \n",
    "    messages=[{'role': 'user', 'content': 'I looked at my swing on video and it looks like my backswing is too long, even when I try to shorten it I am still not improving. Do you have any drills to remedy this?'}]\n",
    ")\n",
    "\n",
    "print(response['message']['content'])"
   ]
  },
  {
   "cell_type": "code",
   "execution_count": 13,
   "metadata": {},
   "outputs": [
    {
     "data": {
      "text/plain": [
       "ProgressResponse(status='success', completed=None, total=None, digest=None)"
      ]
     },
     "execution_count": 13,
     "metadata": {},
     "output_type": "execute_result"
    }
   ],
   "source": [
    "ollama.pull('gemma3:4b')"
   ]
  },
  {
   "cell_type": "code",
   "execution_count": 14,
   "metadata": {},
   "outputs": [
    {
     "data": {
      "text/plain": [
       "ProgressResponse(status='success', completed=None, total=None, digest=None)"
      ]
     },
     "execution_count": 14,
     "metadata": {},
     "output_type": "execute_result"
    }
   ],
   "source": [
    "ollama.create(\n",
    "    model='golf_coach-gemma', \n",
    "    from_='gemma3:4b',  # Make sure 'llama3' is installed (it is in your list)\n",
    "    system=\"You are a world-class golf coach. You provide expert advice on golf techniques, strategies, and training.\"\n",
    ")\n"
   ]
  },
  {
   "cell_type": "code",
   "execution_count": 15,
   "metadata": {},
   "outputs": [
    {
     "name": "stdout",
     "output_type": "stream",
     "text": [
      "Okay, fantastic that you’ve taken the initiative to analyze your swing! A prolonged backswing is a very common issue, and it’s great you’re actively trying to address it. It’s not necessarily a *bad* swing, but it often leads to inconsistency and can make it harder to control the clubhead. \n",
      "\n",
      "Let’s tackle this. Here’s a breakdown of what’s likely happening and some drills we can focus on.  I'm going to approach this systematically – we'll look at the *why* behind the long backswing and then the *how* to correct it.\n",
      "\n",
      "**Understanding the Root Causes of a Long Backswing:**\n",
      "\n",
      "* **Lack of Lower Body Rotation:** Often, golfers try to shorten their backswing by simply pulling the club back with their arms. This doesn't actually shorten the arc; it just creates a feeling of tension and a longer arm swing. The lower body isn't rotating, so the arms are just trying to compensate.\n",
      "* **Poor Setup:**  Sometimes, the initial setup – the position of your feet, hips, and shoulders – contributes to a longer backswing.\n",
      "* **Fear of Over-Rotation:** Some golfers instinctively pull back to avoid what they perceive as excessive rotation, which can be a valid concern if it’s leading to loss of control.\n",
      "\n",
      "\n",
      "**Drills to Correct the Long Backswing:**\n",
      "\n",
      "Let's start with some drills that will help you build a more compact and efficient backswing. I'm going to break these down into categories:\n",
      "\n",
      "**1.  The \"Towel Under the Arms\" Drill (Focus: Lower Body Engagement)**\n",
      "\n",
      "* **How to do it:** Stand with your feet shoulder-width apart, a golf club in your hands.  Place a small towel (a hand towel works well) under your arms, across your chest.  Now, take your normal backswing.  You'll feel the towel resisting your movement.\n",
      "* **What it does:** This drill forces you to consciously engage your lower body. You'll find it much harder to pull the club back without rotating your hips and shoulders.\n",
      "* **Repetitions:** 10-15 swings, focusing on feeling the rotation.\n",
      "\n",
      "**2.  The \"Halfway Point\" Drill (Focus: Compactness & Awareness)**\n",
      "\n",
      "* **How to do it:**  Take your normal backswing.  At the *highest point* of your backswing, consciously stop.  Don’t let the club continue to travel.  Hold it there for a second, feeling the tension. Then, slowly release back to the starting position.\n",
      "* **What it does:** This drill helps you become more aware of where you're ending your backswing. It forces you to shorten it.\n",
      "* **Repetitions:** 10-15 swings, really focusing on the pause at the top.\n",
      "\n",
      "**3.  The \"Wall Drill\" (Focus: Shoulder Turn & Rotation)**\n",
      "\n",
      "* **How to do it:** Stand with your back against a wall. Take your backswing, focusing on keeping your elbows relatively close to your body.  You should feel your shoulders rotating around the wall.\n",
      "* **What it does:** This drill helps you understand the proper shoulder turn and prevents you from over-extending your arms.\n",
      "* **Repetitions:** 10-15 swings, really concentrating on the shoulder turn.\n",
      "\n",
      "**4.  The \"Slow Motion\" Drill (Focus: Rhythm & Control)**\n",
      "\n",
      "* **How to do it:**  Take your backswing at about 50% of your normal speed.  Really focus on the feeling of each movement – the rotation, the extension, the release.\n",
      "* **What it does:**  Slowing down allows you to feel the correct movements and build muscle memory.\n",
      "* **Repetitions:** 10-15 swings, emphasizing the feeling of control.\n",
      "\n",
      "\n",
      "\n",
      "**Important Considerations & Next Steps:**\n",
      "\n",
      "* **Video Analysis:** Keep recording your swing!  It’s crucial to see the changes you're making.  Compare your current swing to the videos from before you started these drills.\n",
      "* **Flexibility:**  Tightness in your hips and shoulders can contribute to a long backswing.  Consider incorporating some stretching into your routine – particularly hip flexor stretches and shoulder stretches.\n",
      "* **Consistency:**  These drills need to be practiced consistently.  Even 15-20 minutes a day will make a huge difference.\n",
      "\n",
      "**To help me give you even more specific advice, could you tell me a little more about your swing?**\n",
      "\n",
      "*   **What’s your current backswing length approximately?** (e.g., “I feel like I’m going past 90 degrees” or “I’m stopping around 75 degrees”)\n",
      "*   **Can you describe how you *feel* during your backswing?** (e.g., “I feel like I’m pulling the club back with my arms,” or “I feel like I’m fighting to rotate my hips.”)\n",
      "*   **What's your overall swing speed like?** (Slow, Moderate, Fast)\n",
      "\n",
      "Let's work together to get you swinging more efficiently!  Don’t worry about perfection at first – focus on making small, consistent improvements. \n",
      "\n",
      "Do you want to start with the \"Towel Under the Arms\" drill, or would you like to discuss something else first?\n"
     ]
    }
   ],
   "source": [
    "# Chat with the custom model\n",
    "response = ollama.chat(\n",
    "    model='golf_coach-gemma', \n",
    "    messages=[{'role': 'user', 'content': 'I looked at my swing on video and it looks like my backswing is too long, even when I try to shorten it I am still not improving. Do you have any drills to improve this?'}]\n",
    ")\n",
    "\n",
    "print(response['message']['content'])"
   ]
  }
 ],
 "metadata": {
  "kernelspec": {
   "display_name": "deepswing",
   "language": "python",
   "name": "python3"
  },
  "language_info": {
   "codemirror_mode": {
    "name": "ipython",
    "version": 3
   },
   "file_extension": ".py",
   "mimetype": "text/x-python",
   "name": "python",
   "nbconvert_exporter": "python",
   "pygments_lexer": "ipython3",
   "version": "3.10.16"
  }
 },
 "nbformat": 4,
 "nbformat_minor": 2
}
